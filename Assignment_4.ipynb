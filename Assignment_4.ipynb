{
 "cells": [
  {
   "cell_type": "markdown",
   "id": "3c0e31a8",
   "metadata": {},
   "source": [
    "1.What exactly is[]?"
   ]
  },
  {
   "cell_type": "code",
   "execution_count": 1,
   "id": "eb7e3664",
   "metadata": {},
   "outputs": [
    {
     "data": {
      "text/plain": [
       "list"
      ]
     },
     "execution_count": 1,
     "metadata": {},
     "output_type": "execute_result"
    }
   ],
   "source": [
    "#'[]' this is called as empty list value it does not contain any variable\n",
    "# Lists are used to store multiple items in a single variable.\n",
    "\n",
    "# for example-\n",
    "\n",
    "list = []\n",
    "type(list)\n"
   ]
  },
  {
   "cell_type": "markdown",
   "id": "13e55758",
   "metadata": {},
   "source": [
    "2.In a list of values stored in a variable called spam, how would you assign the value 'hello' as the\n",
    "third value? (Assume [2, 4, 6, 8, 10] are in spam.)"
   ]
  },
  {
   "cell_type": "code",
   "execution_count": 2,
   "id": "195ce536",
   "metadata": {},
   "outputs": [
    {
     "data": {
      "text/plain": [
       "'hello'"
      ]
     },
     "execution_count": 2,
     "metadata": {},
     "output_type": "execute_result"
    }
   ],
   "source": [
    "# first we have create a list\n",
    "\n",
    "spam = [1,'ani','hello',6]\n",
    "spam[2]"
   ]
  },
  {
   "cell_type": "markdown",
   "id": "50542e77",
   "metadata": {},
   "source": [
    "3.What is the value of spam[int(int('3' * 2) / 11)]?"
   ]
  },
  {
   "cell_type": "code",
   "execution_count": 3,
   "id": "5c8e5eb5",
   "metadata": {},
   "outputs": [
    {
     "name": "stdout",
     "output_type": "stream",
     "text": [
      "d\n"
     ]
    }
   ],
   "source": [
    "## 3*2 get 33 and after that it is divided by 11 we get 3. at the 3rd index we have get the value 'd'.\n",
    "spam = ['a','b','c','d']\n",
    "print(spam[int(int('3'*2)/11)])\n"
   ]
  },
  {
   "cell_type": "markdown",
   "id": "88424b01",
   "metadata": {},
   "source": [
    "4.What is the value of spam[-1]?"
   ]
  },
  {
   "cell_type": "code",
   "execution_count": 4,
   "id": "58e2f731",
   "metadata": {},
   "outputs": [
    {
     "name": "stdout",
     "output_type": "stream",
     "text": [
      "d\n"
     ]
    }
   ],
   "source": [
    "# Negative indexing means start from the end.\n",
    "#-1 refers to the last item.\n",
    "\n",
    "spam = ['a','b','c','d']\n",
    "print(spam[-1])"
   ]
  },
  {
   "cell_type": "markdown",
   "id": "670f0cbd",
   "metadata": {},
   "source": [
    "5.What is the value of spam[:2]?"
   ]
  },
  {
   "cell_type": "code",
   "execution_count": 5,
   "id": "8f9cee9d",
   "metadata": {},
   "outputs": [
    {
     "name": "stdout",
     "output_type": "stream",
     "text": [
      "['a', 'b']\n"
     ]
    }
   ],
   "source": [
    "# By leaving out the start value, the range will start at the first item.\n",
    "# but not including 'c'.\n",
    "spam = ['a','b','c','d']\n",
    "print(spam[:2])"
   ]
  },
  {
   "cell_type": "markdown",
   "id": "1ba7a462",
   "metadata": {},
   "source": [
    "6.What is the value of bacon.index('cat')?"
   ]
  },
  {
   "cell_type": "code",
   "execution_count": 6,
   "id": "659bc718",
   "metadata": {},
   "outputs": [
    {
     "data": {
      "text/plain": [
       "1"
      ]
     },
     "execution_count": 6,
     "metadata": {},
     "output_type": "execute_result"
    }
   ],
   "source": [
    "bacon = [3.14,'cat',11,'cat',True]\n",
    "bacon.index('cat')\n",
    "    "
   ]
  },
  {
   "cell_type": "markdown",
   "id": "a8ad5d93",
   "metadata": {},
   "source": [
    "7.How does bacon.append(99) change the look of the list value in bacon?"
   ]
  },
  {
   "cell_type": "code",
   "execution_count": 7,
   "id": "10b7dc0a",
   "metadata": {},
   "outputs": [
    {
     "name": "stdout",
     "output_type": "stream",
     "text": [
      "[3.14, 'cat', 11, 'cat', True, 99]\n"
     ]
    }
   ],
   "source": [
    "# add an item to the end of the list, use the append() method\n",
    "\n",
    "bacon = [3.14,'cat',11,'cat',True]\n",
    "bacon.append(99)\n",
    "print(bacon)\n"
   ]
  },
  {
   "cell_type": "markdown",
   "id": "d999f8a8",
   "metadata": {},
   "source": [
    "8.How does bacon.remove('cat') change the look of the list in bacon?"
   ]
  },
  {
   "cell_type": "code",
   "execution_count": 8,
   "id": "0cc0687b",
   "metadata": {},
   "outputs": [
    {
     "name": "stdout",
     "output_type": "stream",
     "text": [
      "[3.14, 11, 'cat', True]\n"
     ]
    }
   ],
   "source": [
    "# The remove() method removes the specified item.\n",
    "\n",
    "bacon = [3.14,'cat',11,'cat',True]\n",
    "bacon.remove('cat')\n",
    "print(bacon)\n"
   ]
  },
  {
   "cell_type": "markdown",
   "id": "88492716",
   "metadata": {},
   "source": [
    "9.What are the list concatenation and list replication operators?"
   ]
  },
  {
   "cell_type": "code",
   "execution_count": 9,
   "id": "9b9c8856",
   "metadata": {},
   "outputs": [
    {
     "data": {
      "text/plain": [
       "[1, 2, 3, 1, 2, 3]"
      ]
     },
     "execution_count": 9,
     "metadata": {},
     "output_type": "execute_result"
    }
   ],
   "source": [
    "# The operator for list concatenation is'+'\n",
    "# for example \n",
    "\n",
    "l1=[1,2,3]\n",
    "l2=[1,2,3]\n",
    "l3=l1+l2\n",
    "l3"
   ]
  },
  {
   "cell_type": "code",
   "execution_count": 10,
   "id": "910cf649",
   "metadata": {},
   "outputs": [
    {
     "data": {
      "text/plain": [
       "[1, 2, 3, 1, 2, 3, 1, 2, 3]"
      ]
     },
     "execution_count": 10,
     "metadata": {},
     "output_type": "execute_result"
    }
   ],
   "source": [
    "# while the operator for replication is '*'. \n",
    "# for example \n",
    "\n",
    "l1=[1,2,3]\n",
    "l2=l1*3\n",
    "l2"
   ]
  },
  {
   "cell_type": "markdown",
   "id": "64a2f014",
   "metadata": {},
   "source": [
    "10.What is difference between the list methods append() and insert()?\n",
    "\n",
    "Ans -\n",
    "append() will add values only to the end of a list while insert() can add them anywhere in the list."
   ]
  },
  {
   "cell_type": "markdown",
   "id": "fd3e8104",
   "metadata": {},
   "source": [
    "11.What are the two methods for removing items from a list?"
   ]
  },
  {
   "cell_type": "code",
   "execution_count": 11,
   "id": "2708af37",
   "metadata": {},
   "outputs": [
    {
     "name": "stdout",
     "output_type": "stream",
     "text": [
      "['Ani', 'Mumbai']\n"
     ]
    }
   ],
   "source": [
    "# the remove() method removes the specified item.\n",
    "\n",
    "list = ['Ani', 24 , 'Mumbai']\n",
    "list.remove(24)\n",
    "print(list)"
   ]
  },
  {
   "cell_type": "code",
   "execution_count": 12,
   "id": "3c7b5e13",
   "metadata": {},
   "outputs": [
    {
     "name": "stdout",
     "output_type": "stream",
     "text": [
      "[24, 'Mumbai']\n"
     ]
    }
   ],
   "source": [
    "# The del keyword also removes the specified index\n",
    "\n",
    "list = ['Ani', 24 , 'Mumbai']\n",
    "del list[0]\n",
    "print(list)"
   ]
  },
  {
   "cell_type": "markdown",
   "id": "762579fb",
   "metadata": {},
   "source": [
    "12.Describe how list values and string values are identical.\n",
    "\n",
    "Ans-\n",
    "lists and strings can be passed to len(), have indexes and slices, be used in for loops, be concatenated or replicated, and be used with the in and not in operators, hence both values are identical."
   ]
  },
  {
   "cell_type": "markdown",
   "id": "49a7c3f7",
   "metadata": {},
   "source": [
    "13.What's the difference between tuples and lists?\n",
    "\n",
    "Ans-\n",
    "Lists are mutable,they can have values added, removed, or changed. lists are written using parentheses '[]'.\n",
    "Tuples are immutable,they cannot be changed at all.tuples are written using parentheses'()'."
   ]
  },
  {
   "cell_type": "markdown",
   "id": "81c18b31",
   "metadata": {},
   "source": [
    "15.How do you get a list value's tuple form? How do you get a tuple value's list form?\n",
    "\n",
    "Ans-\n",
    "For convert tuple to list we use list() function.\n",
    "and for convert list to tuple we use tuple() function."
   ]
  },
  {
   "cell_type": "markdown",
   "id": "32fab120",
   "metadata": {},
   "source": [
    "16.Variables that \"contain\" list values are not necessarily lists themselves. Instead, what do they\n",
    "contain?\n",
    "\n",
    "Ans-\n",
    "They contain references to list values."
   ]
  },
  {
   "cell_type": "markdown",
   "id": "16e6c7ed",
   "metadata": {},
   "source": [
    "17.How do you distinguish between copy.copy() and copy.deepcopy()?\n",
    "\n",
    "Ans-\n",
    "The copy.copy() function will do a shallow copy of a list.\n",
    "while the copy.deepcopy() function will do a deep copy of a list. \n",
    "only copy.deepcopy() will duplicate any lists inside the list."
   ]
  }
 ],
 "metadata": {
  "kernelspec": {
   "display_name": "Python 3 (ipykernel)",
   "language": "python",
   "name": "python3"
  },
  "language_info": {
   "codemirror_mode": {
    "name": "ipython",
    "version": 3
   },
   "file_extension": ".py",
   "mimetype": "text/x-python",
   "name": "python",
   "nbconvert_exporter": "python",
   "pygments_lexer": "ipython3",
   "version": "3.9.7"
  }
 },
 "nbformat": 4,
 "nbformat_minor": 5
}
