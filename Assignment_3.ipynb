{
 "cells": [
  {
   "cell_type": "markdown",
   "id": "5d0c8519",
   "metadata": {},
   "source": [
    "1.Why are functions advantageous to have in your programs?\n",
    "\n",
    "Ans-\n",
    "A function is a block of reusable code that is used to perform a specific action. \n",
    "the advatages are as :-\n",
    "-Reducing duplication of code\n",
    "-Decomposing complex problems into simpler pieces\n",
    "-Improving clarity of the code\n",
    "-Reuse of code\n",
    "-Information hiding"
   ]
  },
  {
   "cell_type": "markdown",
   "id": "46b80acb",
   "metadata": {},
   "source": [
    "2.When does the code in a function run: when it&#39;s specified or when it's called?\n",
    "\n",
    "Ans-\n",
    "code in a function executes when the function is called, not when the function is defined."
   ]
  },
  {
   "cell_type": "markdown",
   "id": "1798a1a9",
   "metadata": {},
   "source": [
    "3.What statement creates a function?\n",
    "\n",
    "Ans-\n",
    "we use the \"def\" statment to create a function."
   ]
  },
  {
   "cell_type": "markdown",
   "id": "500b809d",
   "metadata": {},
   "source": [
    "4.What is the difference between a function and a function call?\n",
    "\n",
    "Ans-\n",
    "Function- A function is a block of code that does a particular operation and returns a result. \n",
    "Function call-A function call means calling that function. Unless a function is called there is no use of that                                 function."
   ]
  },
  {
   "cell_type": "markdown",
   "id": "4e1c5582",
   "metadata": {},
   "source": [
    "5.How many global scopes are there in a Python program? How many local scopes?\n",
    "\n",
    "Ans-\n",
    "There is a one global scope in python program and local scope is created whenever a function is called."
   ]
  },
  {
   "cell_type": "code",
   "execution_count": 1,
   "id": "0a8b1833",
   "metadata": {},
   "outputs": [
    {
     "data": {
      "text/plain": [
       "100"
      ]
     },
     "execution_count": 1,
     "metadata": {},
     "output_type": "execute_result"
    }
   ],
   "source": [
    "# for example\n",
    "# global names- X and fun\n",
    "# local names - Y and Z \n",
    "\n",
    "# global scope\n",
    "X = 99                \n",
    "          \n",
    "def func(Y):         \n",
    "    # local scope\n",
    "    Z = X + Y         \n",
    "    return Z\n",
    "\n",
    "func(1)               "
   ]
  },
  {
   "cell_type": "markdown",
   "id": "a9444e2e",
   "metadata": {},
   "source": [
    "6.What happens to variables in a local scope when the function call returns?\n",
    "\n",
    "Ans-\n",
    "When a function returns, the local scope is destroyed, and all the variables in it are forgotten."
   ]
  },
  {
   "cell_type": "markdown",
   "id": "54d795fd",
   "metadata": {},
   "source": [
    "7.What is the concept of a return value? Is it possible to have a return value in an expression?\n",
    "\n",
    "Ans-\n",
    "A return value is the value that a function call evaluates to.\n",
    "If you define a function with an explicit return statement that has an explicit return value, then you can use that return value in any expression\n",
    "\n"
   ]
  },
  {
   "cell_type": "code",
   "execution_count": 4,
   "id": "77e7dd14",
   "metadata": {},
   "outputs": [
    {
     "data": {
      "text/plain": [
       "42"
      ]
     },
     "execution_count": 4,
     "metadata": {},
     "output_type": "execute_result"
    }
   ],
   "source": [
    "def return_42():\n",
    "     return 42  \n",
    "\n",
    "return_42()  "
   ]
  },
  {
   "cell_type": "markdown",
   "id": "f79400ae",
   "metadata": {},
   "source": [
    "8.If a function does not have a return statement, what is the return value of a call to that function?\n",
    "\n",
    "Ans-\n",
    "If there is no return statement then there is a return value is none. "
   ]
  },
  {
   "cell_type": "markdown",
   "id": "912bcb07",
   "metadata": {},
   "source": [
    "9.How do you make a function variable refer to the global variable?\n",
    "\n",
    "Ans-\n",
    "A global statement will force a variable in a function to refer to the global variable."
   ]
  },
  {
   "cell_type": "markdown",
   "id": "732d0d93",
   "metadata": {},
   "source": [
    "10.What is the data type of None?"
   ]
  },
  {
   "cell_type": "code",
   "execution_count": 5,
   "id": "8964f3ba",
   "metadata": {},
   "outputs": [
    {
     "name": "stdout",
     "output_type": "stream",
     "text": [
      "<class 'NoneType'>\n"
     ]
    }
   ],
   "source": [
    "# the data type of none is 'NoneType'\n",
    "\n",
    "print(type(None))"
   ]
  },
  {
   "cell_type": "markdown",
   "id": "bcd81479",
   "metadata": {},
   "source": [
    "11.What does the sentence import areallyourpetsnamederic do?\n",
    "\n",
    "Ans-\n",
    "That import statement imports a module named areallyourpetsnamederic."
   ]
  },
  {
   "cell_type": "markdown",
   "id": "55198b86",
   "metadata": {},
   "source": [
    "12.If you had a bacon() feature in a spam module, what would you call it after importing spam?\n",
    "\n",
    "Ans-\n",
    "import spam as s\n",
    "s.bacon()"
   ]
  },
  {
   "cell_type": "markdown",
   "id": "ff81127d",
   "metadata": {},
   "source": [
    "13.What can you do to save a programme from crashing if it encounters an error?\n",
    "\n",
    "Ans-\n",
    "Place the line of code that might cause an error in a try clause."
   ]
  },
  {
   "cell_type": "markdown",
   "id": "e3251e96",
   "metadata": {},
   "source": [
    "14.What is the purpose of the try clause? What is the purpose of the except clause?\n",
    "\n",
    "Ans-\n",
    "The code could cause an error goes into try clause.\n",
    "The code that executes if an error happens goes in the except clause."
   ]
  },
  {
   "cell_type": "code",
   "execution_count": 6,
   "id": "91d947e1",
   "metadata": {},
   "outputs": [
    {
     "name": "stdout",
     "output_type": "stream",
     "text": [
      "there was msitake\n"
     ]
    }
   ],
   "source": [
    "# try and Expect example\n",
    "try:\n",
    "  f= open(\"test.txt\", \"r\")\n",
    "  f.write(\"dgff sjdh\")\n",
    "except:\n",
    "  print(\"there was msitake\")\n"
   ]
  }
 ],
 "metadata": {
  "kernelspec": {
   "display_name": "Python 3 (ipykernel)",
   "language": "python",
   "name": "python3"
  },
  "language_info": {
   "codemirror_mode": {
    "name": "ipython",
    "version": 3
   },
   "file_extension": ".py",
   "mimetype": "text/x-python",
   "name": "python",
   "nbconvert_exporter": "python",
   "pygments_lexer": "ipython3",
   "version": "3.9.7"
  }
 },
 "nbformat": 4,
 "nbformat_minor": 5
}
