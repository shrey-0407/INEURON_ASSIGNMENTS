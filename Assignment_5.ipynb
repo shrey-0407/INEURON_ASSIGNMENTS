{
 "cells": [
  {
   "cell_type": "markdown",
   "id": "4efa8c66",
   "metadata": {},
   "source": [
    "1.What does an empty dictionary's code look like?"
   ]
  },
  {
   "cell_type": "code",
   "execution_count": 2,
   "id": "5cf4ffca",
   "metadata": {},
   "outputs": [
    {
     "data": {
      "text/plain": [
       "{}"
      ]
     },
     "execution_count": 2,
     "metadata": {},
     "output_type": "execute_result"
    }
   ],
   "source": [
    "# it look like this '{}'\n",
    "\n",
    "dict1={}\n",
    "dict1\n"
   ]
  },
  {
   "cell_type": "markdown",
   "id": "a1f50d7b",
   "metadata": {},
   "source": [
    "2.What is the value of a dictionary value with the key 'foo' and the value 42?"
   ]
  },
  {
   "cell_type": "code",
   "execution_count": 3,
   "id": "80982e78",
   "metadata": {},
   "outputs": [
    {
     "data": {
      "text/plain": [
       "{'foo': 42}"
      ]
     },
     "execution_count": 3,
     "metadata": {},
     "output_type": "execute_result"
    }
   ],
   "source": [
    "dict1={'foo':42}\n",
    "dict1"
   ]
  },
  {
   "cell_type": "markdown",
   "id": "7f6b27b0",
   "metadata": {},
   "source": [
    "3.What is the most significant distinction between a dictionary and a list?\n",
    "\n",
    "Ans-\n",
    "The items stored in a dictionary are unordered, while the items in a list are ordered."
   ]
  },
  {
   "cell_type": "markdown",
   "id": "9b02d18a",
   "metadata": {},
   "source": [
    "4.What happens if you try to access spam['foo'] if spam is {'bar': 100}?"
   ]
  },
  {
   "cell_type": "code",
   "execution_count": 4,
   "id": "bc7a3b63",
   "metadata": {},
   "outputs": [
    {
     "ename": "KeyError",
     "evalue": "'foo'",
     "output_type": "error",
     "traceback": [
      "\u001b[1;31m---------------------------------------------------------------------------\u001b[0m",
      "\u001b[1;31mKeyError\u001b[0m                                  Traceback (most recent call last)",
      "\u001b[1;32m~\\AppData\\Local\\Temp/ipykernel_19688/1717283131.py\u001b[0m in \u001b[0;36m<module>\u001b[1;34m\u001b[0m\n\u001b[0;32m      1\u001b[0m \u001b[0mspam\u001b[0m\u001b[1;33m=\u001b[0m\u001b[1;33m{\u001b[0m\u001b[1;34m'bar'\u001b[0m\u001b[1;33m:\u001b[0m\u001b[1;36m100\u001b[0m\u001b[1;33m}\u001b[0m\u001b[1;33m\u001b[0m\u001b[1;33m\u001b[0m\u001b[0m\n\u001b[1;32m----> 2\u001b[1;33m \u001b[0mspam\u001b[0m\u001b[1;33m[\u001b[0m\u001b[1;34m'foo'\u001b[0m\u001b[1;33m]\u001b[0m\u001b[1;33m\u001b[0m\u001b[1;33m\u001b[0m\u001b[0m\n\u001b[0m",
      "\u001b[1;31mKeyError\u001b[0m: 'foo'"
     ]
    }
   ],
   "source": [
    "# we get a key error\n",
    "\n",
    "spam={'bar':100}\n",
    "spam['foo']"
   ]
  },
  {
   "cell_type": "markdown",
   "id": "9e576dee",
   "metadata": {},
   "source": [
    "5.If a dictionary is stored in spam, what is the difference between the expressions 'cat' in spam and\n",
    "'cat' in spam.keys()?\n",
    "\n",
    "Ans-\n",
    "there is no difference. The in operator checks whether a value exists as a key in the dictionary."
   ]
  },
  {
   "cell_type": "markdown",
   "id": "9ffc5c90",
   "metadata": {},
   "source": [
    "6.If a dictionary is stored in spam, what is the difference between the expressions 'cat' in spam and\n",
    "cat in spam.values()?\n",
    "\n",
    "Ans-\n",
    "'cat' in spam checks whether there is a 'cat' key in the dictionary, while 'cat' in spam.values() checks whether there is a value 'cat' for one of the keys in spam."
   ]
  },
  {
   "cell_type": "markdown",
   "id": "ea54b41e",
   "metadata": {},
   "source": [
    "7.What is a shortcut for the following code?\n",
    "if 'color' not in spam:\n",
    "spam['color'] = 'black'"
   ]
  },
  {
   "cell_type": "code",
   "execution_count": 5,
   "id": "9cedf98e",
   "metadata": {},
   "outputs": [
    {
     "name": "stdout",
     "output_type": "stream",
     "text": [
      "black\n"
     ]
    }
   ],
   "source": [
    "# spam.setdefault('color','black')\n",
    "\n",
    "spam={'name':'ani', 'age':21 }\n",
    "\n",
    "x=spam.setdefault('color','black')\n",
    "print(x)\n",
    "\n"
   ]
  },
  {
   "cell_type": "markdown",
   "id": "6f6fa28d",
   "metadata": {},
   "source": [
    "8.How do you \"pretty print\" dictionary values using which module and function?\n",
    "\n",
    "Ans-\n",
    "pprint.pprint()\n",
    "The pprint() output is definitely more readable. What it does is to break each dictionary element in the array right after the commas while also sorting the dictionary’s values by key."
   ]
  },
  {
   "cell_type": "code",
   "execution_count": 8,
   "id": "d660fa86",
   "metadata": {},
   "outputs": [
    {
     "name": "stdout",
     "output_type": "stream",
     "text": [
      "[{'age': 21, 'name': 'ani'},\n",
      " {'age': 23, 'name': 'pruthvi'},\n",
      " {'age': 22, 'name': 'amruta'}]\n"
     ]
    }
   ],
   "source": [
    "import pprint\n",
    "spam=[{'name':'ani', 'age':21},\n",
    "      {'name':'pruthvi', 'age':23 },\n",
    "      {'name':'amruta', 'age':22 } ]\n",
    "\n",
    "pprint.pprint(spam)\n",
    "\n",
    "\n"
   ]
  },
  {
   "cell_type": "code",
   "execution_count": 9,
   "id": "f8ed0c8d",
   "metadata": {},
   "outputs": [
    {
     "name": "stdout",
     "output_type": "stream",
     "text": [
      "[{'name': 'ani', 'age': 21}, {'name': 'pruthvi', 'age': 23}, {'name': 'amruta', 'age': 22}]\n"
     ]
    }
   ],
   "source": [
    "spam=[{'name':'ani', 'age':21},\n",
    "      {'name':'pruthvi', 'age':23 },\n",
    "      {'name':'amruta', 'age':22 } ]\n",
    "print(spam)"
   ]
  }
 ],
 "metadata": {
  "kernelspec": {
   "display_name": "Python 3 (ipykernel)",
   "language": "python",
   "name": "python3"
  },
  "language_info": {
   "codemirror_mode": {
    "name": "ipython",
    "version": 3
   },
   "file_extension": ".py",
   "mimetype": "text/x-python",
   "name": "python",
   "nbconvert_exporter": "python",
   "pygments_lexer": "ipython3",
   "version": "3.9.7"
  }
 },
 "nbformat": 4,
 "nbformat_minor": 5
}
